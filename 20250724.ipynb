{
 "cells": [
  {
   "cell_type": "markdown",
   "id": "4491bab6",
   "metadata": {},
   "source": [
    "## 모듈\n",
    "한 파일로 묶인 변수와 함수의 모음  \n",
    "특정한 기능을 하는 코드가 작성된 파이썬 파일(.py)\n",
    "## 라이브러리\n",
    "파이썬 언어와 함께 제공되는 모듈과 패키지의 모음\n",
    "## 패키지\n",
    "연관된 모듈들을 하나의 디렉토리에 모아 놓은 것  \n",
    "모듈들을 가지고 있는 디렉토리\n",
    "\n",
    "[파이썬 패키지 사이트](https://pypi.org)\n",
    "\n",
    "설치\n",
    "```sh\n",
    "$ pip install SomePackage\n",
    "$ pip install SomePackage == 1.0.5\n",
    "$ pip install SomePackage >= 1.0.4\n",
    "```\n",
    "\n"
   ]
  },
  {
   "cell_type": "markdown",
   "id": "1f0f3deb",
   "metadata": {},
   "source": [
    "## 제어문\n",
    "### 조건문\n",
    "조건 설정을 잘 해야한다. 위에거 부터 판단\n",
    "### 반목문\n",
    "요소를 하나씩 반환할 수 있는 모든 객체  \n",
    "list, tuple, str, dict, set\n"
   ]
  },
  {
   "cell_type": "markdown",
   "id": "955ce97f",
   "metadata": {},
   "source": [
    "## map 과 zip\n",
    "### map\n",
    "map(function, iterable)\n",
    "### zip\n",
    "zip(*iterables)\n",
    "\n",
    "```python\n",
    "score = [20, 30, 25, 35]\n",
    "subject = ['국어', '수학', '영어', '과학']\n",
    "pair = zip(subject, score)\n",
    "```"
   ]
  },
  {
   "cell_type": "code",
   "execution_count": 7,
   "id": "8de8a8e6",
   "metadata": {},
   "outputs": [
    {
     "name": "stdout",
     "output_type": "stream",
     "text": [
      "<zip object at 0x000001618FA54AC0>\n",
      "[('국어', 20), ('수학', 30), ('영어', 25), ('과학', 35)]\n"
     ]
    }
   ],
   "source": [
    "score = [20, 30, 25, 35]\n",
    "subject = ['국어', '수학', '영어', '과학']\n",
    "pair = zip(subject, score)\n",
    "print(pair)\n",
    "print(list(pair))"
   ]
  },
  {
   "cell_type": "markdown",
   "id": "a0cd6795",
   "metadata": {},
   "source": [
    "### for-else문법\n",
    "for 루프가 break를 만나 중단되지 않고, 끝까지 정상적으로 완료되었을 때만 else 블록이 실행  \n",
    "while-else문도 존재"
   ]
  },
  {
   "cell_type": "code",
   "execution_count": 10,
   "id": "2028f93e",
   "metadata": {},
   "outputs": [
    {
     "name": "stdout",
     "output_type": "stream",
     "text": [
      "['2', '3']\n",
      "['3']\n",
      "[]\n",
      "다함\n"
     ]
    }
   ],
   "source": [
    "a = ['1','2','3']\n",
    "while a:\n",
    "    del(a[0])\n",
    "    print(a)\n",
    "else:\n",
    "    print('다함')\n"
   ]
  },
  {
   "cell_type": "markdown",
   "id": "2f399db0",
   "metadata": {},
   "source": [
    "### enumerate\n",
    "enumerate(iterable, start = 0)  \n",
    "iterable 객체의 각 요소에 대해 **인덱스와 값** 을 함께 반환하는 내장함수\n",
    "```python\n",
    "a = '내 이름은 임경수'\n",
    "for idx, char in enumerate(a):\n",
    "  print(idx, char)\n",
    "```"
   ]
  },
  {
   "cell_type": "code",
   "execution_count": 12,
   "id": "a85775bc",
   "metadata": {},
   "outputs": [
    {
     "name": "stdout",
     "output_type": "stream",
     "text": [
      "0 내\n",
      "1  \n",
      "2 이\n",
      "3 름\n",
      "4 은\n",
      "5  \n",
      "6 임\n",
      "7 경\n",
      "8 수\n"
     ]
    }
   ],
   "source": [
    "a = '내 이름은 임경수'\n",
    "for idx, char in enumerate(a):\n",
    "  print(idx, char)\n"
   ]
  },
  {
   "cell_type": "code",
   "execution_count": 6,
   "id": "75fb2091",
   "metadata": {},
   "outputs": [
    {
     "name": "stdout",
     "output_type": "stream",
     "text": [
      "0\n",
      "1\n",
      "2\n",
      "12\n"
     ]
    }
   ],
   "source": [
    "for i in range(3):\n",
    "    print(i)\n",
    "else:\n",
    "    print(i+10)"
   ]
  }
 ],
 "metadata": {
  "kernelspec": {
   "display_name": "Python 3",
   "language": "python",
   "name": "python3"
  },
  "language_info": {
   "codemirror_mode": {
    "name": "ipython",
    "version": 3
   },
   "file_extension": ".py",
   "mimetype": "text/x-python",
   "name": "python",
   "nbconvert_exporter": "python",
   "pygments_lexer": "ipython3",
   "version": "3.11.9"
  }
 },
 "nbformat": 4,
 "nbformat_minor": 5
}
