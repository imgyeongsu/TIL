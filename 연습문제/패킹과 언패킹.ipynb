{
 "cells": [
  {
   "cell_type": "code",
   "execution_count": 11,
   "id": "7c5f1da3",
   "metadata": {},
   "outputs": [
    {
     "name": "stdout",
     "output_type": "stream",
     "text": [
      "arg1 :  100 type : <class 'int'>\n",
      "*arg :  ([1, 2, 3, 4, 5],) type :  <class 'tuple'>\n",
      "\n",
      "arg1 :  100 type : <class 'int'>\n",
      "*arg :  (1, 2, 3, 4, 5) type :  <class 'tuple'>\n",
      "\n",
      "arg1 :  [1, 2, 3, 4, 5] type : <class 'list'>\n",
      "*arg :  (100,) type :  <class 'tuple'>\n",
      "\n",
      "arg1 :  1 type : <class 'int'>\n",
      "*arg :  (2, 3, 4, 5) type :  <class 'tuple'>\n",
      "\n",
      "{'int_key_arg': 1, 'key1': 11, 'key2': 111, 'key3': 1111, 'key4': 11111} <class 'dict'>\n",
      "문자열 기본 값 <class 'str'>\n",
      "{} <class 'dict'>\n",
      "\n",
      "1 <class 'int'>\n",
      "문자열 기본 값 <class 'str'>\n",
      "{'key1': 11, 'key2': 111, 'key3': 1111, 'key4': 11111} <class 'dict'>\n",
      "\n"
     ]
    }
   ],
   "source": [
    "arg1 = 100\n",
    "list_arg = [1,2,3,4,5]\n",
    "\n",
    "def arg_practice1(arg1, *arg):\n",
    "    print('arg1 : ', arg1, 'type :', type(arg1))\n",
    "    print('*arg : ', arg, 'type : ', type(arg))\n",
    "    print('')\n",
    "\n",
    "arg_practice1(arg1, list_arg)\n",
    "arg_practice1(arg1, *list_arg)\n",
    "arg_practice1(list_arg, arg1)\n",
    "arg_practice1(*list_arg)\n",
    "\n",
    "striing = '문자열12345'\n",
    "key_arg = {'int_key_arg' : 1,\n",
    "           'key1' : 11,\n",
    "           'key2' : 111,\n",
    "           'key3' : 1111,\n",
    "           'key4' : 11111}\n",
    "\n",
    "def kwarg_practice(int_key_arg = 0, str_key_arg = '문자열 기본 값',**kwarg):\n",
    "    print(int_key_arg, type(int_key_arg))\n",
    "    print(str_key_arg, type(str_key_arg))\n",
    "    print(kwarg, type(kwarg))\n",
    "    print('')\n",
    "\n",
    "kwarg_practice(key_arg)\n",
    "kwarg_practice(**key_arg)"
   ]
  }
 ],
 "metadata": {
  "kernelspec": {
   "display_name": "Python 3",
   "language": "python",
   "name": "python3"
  },
  "language_info": {
   "codemirror_mode": {
    "name": "ipython",
    "version": 3
   },
   "file_extension": ".py",
   "mimetype": "text/x-python",
   "name": "python",
   "nbconvert_exporter": "python",
   "pygments_lexer": "ipython3",
   "version": "3.11.9"
  }
 },
 "nbformat": 4,
 "nbformat_minor": 5
}
