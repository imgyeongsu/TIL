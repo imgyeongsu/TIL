{
 "cells": [
  {
   "cell_type": "markdown",
   "id": "306799cb",
   "metadata": {},
   "source": [
    "코드를 수정하고, 관리  \n",
    "반복되는 코드를 하나로 묶어 재사용  \n",
    "### 함수\n",
    "재사용 가능한 코드들의 묶음  \n",
    "- **함수 호출**  \n",
    "함수를 실행하기 위해 함수의 이름을 사용하여 해당 함수의 코드 블록을 실행하는 것  \n",
    "- 함수는 **input(매개변수)** 이 존재(없을수도 있긴함)\n",
    "- Docstring 설명서\n",
    "- return문이 없다면 None이 반환됨"
   ]
  },
  {
   "cell_type": "code",
   "execution_count": 1,
   "id": "70cd1a2a",
   "metadata": {},
   "outputs": [
    {
     "data": {
      "text/plain": [
       "2"
      ]
     },
     "execution_count": 1,
     "metadata": {},
     "output_type": "execute_result"
    }
   ],
   "source": [
    "def func1(pa1):\n",
    "    \"\"\"여기는 Docstring구역입니다.\n",
    "    이것은 하나의 수를 그대로 반환하는 함수입니다.\n",
    "    >>> func1(2)\n",
    "    2\n",
    "    \"\"\"\n",
    "    return pa1\n",
    "    pa1 + 3 #return뒤에 작성하면 실행될일 없다.\n",
    "\n",
    "func1(2)"
   ]
  },
  {
   "cell_type": "markdown",
   "id": "71f68245",
   "metadata": {},
   "source": [
    "출력과 반환을 구분해야한다.  \n",
    "출력은 print()를 통해 진행된다.  \n",
    "print()의 반환값은 None이다."
   ]
  },
  {
   "cell_type": "code",
   "execution_count": 2,
   "id": "aa44f767",
   "metadata": {},
   "outputs": [
    {
     "name": "stdout",
     "output_type": "stream",
     "text": [
      "1\n",
      "None\n",
      "2\n"
     ]
    }
   ],
   "source": [
    "return_value = print(1)\n",
    "print(return_value)\n",
    "return_value = print(2)"
   ]
  },
  {
   "cell_type": "code",
   "execution_count": 3,
   "id": "a2f446b8",
   "metadata": {},
   "outputs": [
    {
     "name": "stdout",
     "output_type": "stream",
     "text": [
      "hello\n",
      "None\n"
     ]
    }
   ],
   "source": [
    "def func():\n",
    "    print('hello')\n",
    "\n",
    "result = func()\n",
    "print(result)"
   ]
  },
  {
   "cell_type": "markdown",
   "id": "df70616e",
   "metadata": {},
   "source": [
    "할당문은 = 오른쪽을 실행함"
   ]
  },
  {
   "cell_type": "markdown",
   "id": "4feaf6d1",
   "metadata": {},
   "source": [
    "매개변수  \n",
    "함수를 정의할 때, 함수가 받을 값을 나타내는 변수  \n",
    "\n",
    "인자  \n",
    "함수를 호출할 때, 실제로 전달되는 값  \n",
    "\n",
    "인자의 종류    \n",
    "1. 위치인자  \n",
    "인자의 위치에 따라 전달되는 인자\n",
    "1. 기본 인자 값  \n",
    "함수 정의에서 매개변수에 기본 값을 할당하는 것\n",
    "1. 키워드 인자  \n",
    "함수 호출 시 인자의 이름과 함께 값을 전달하는 인자  \n",
    "*주의사항) 키워드 인자 사용 후  위치인자의 사용은 불가능함\n",
    "1. 임의의 인자 목록  \n",
    "정해지지 않은 개수의 인자를 처리하는 인자  \n",
    "'*'를 붙여 사용\n",
    "1. 임의이 키워드 인자 목록  \n",
    "정해지지 않은 개수의 키워드 인자를 처리하는 인자\n",
    "함수 정의 시 매개변수 앞에 '**'를 붙여 사용  \n",
    "\n",
    "함수 인자 권장 작성 순서\n",
    "위치 -> 기본 -> 가변 -> 가변 키워드"
   ]
  },
  {
   "cell_type": "code",
   "execution_count": 34,
   "id": "b80dad64",
   "metadata": {},
   "outputs": [
    {
     "name": "stdout",
     "output_type": "stream",
     "text": [
      "안녕하세요, Alice님! 25살 이시군요.\n",
      "안녕하세요, 25님! Alice살 이시군요.\n"
     ]
    },
    {
     "ename": "TypeError",
     "evalue": "greet() missing 1 required positional argument: 'age'",
     "output_type": "error",
     "traceback": [
      "\u001b[31m---------------------------------------------------------------------------\u001b[39m",
      "\u001b[31mTypeError\u001b[39m                                 Traceback (most recent call last)",
      "\u001b[36mCell\u001b[39m\u001b[36m \u001b[39m\u001b[32mIn[34]\u001b[39m\u001b[32m, line 7\u001b[39m\n\u001b[32m      5\u001b[39m greet(\u001b[33m'\u001b[39m\u001b[33mAlice\u001b[39m\u001b[33m'\u001b[39m, \u001b[32m25\u001b[39m)\n\u001b[32m      6\u001b[39m greet(\u001b[32m25\u001b[39m, \u001b[33m'\u001b[39m\u001b[33mAlice\u001b[39m\u001b[33m'\u001b[39m)\n\u001b[32m----> \u001b[39m\u001b[32m7\u001b[39m \u001b[43mgreet\u001b[49m\u001b[43m(\u001b[49m\u001b[33;43m'\u001b[39;49m\u001b[33;43mAlice\u001b[39;49m\u001b[33;43m'\u001b[39;49m\u001b[43m)\u001b[49m \u001b[38;5;66;03m#위치인자가 제대로 설정되지 않아 에러가 나게됨\u001b[39;00m\n",
      "\u001b[31mTypeError\u001b[39m: greet() missing 1 required positional argument: 'age'"
     ]
    }
   ],
   "source": [
    "#위치 인자\n",
    "def greet(name, age):\n",
    "    print(f'안녕하세요, {name}님! {age}살 이시군요.')\n",
    "\n",
    "greet('Alice', 25)\n",
    "greet(25, 'Alice')\n",
    "greet('Alice') #위치인자가 제대로 설정되지 않아 에러가 나게됨"
   ]
  },
  {
   "cell_type": "code",
   "execution_count": 35,
   "id": "bc9ede48",
   "metadata": {},
   "outputs": [
    {
     "name": "stdout",
     "output_type": "stream",
     "text": [
      "안녕하세요, Bob님! 30살이시군요.\n",
      "안녕하세요, Charlie님! 40살이시군요.\n"
     ]
    }
   ],
   "source": [
    "#기본 인자\n",
    "def greet(name, age = 30):\n",
    "    print(f'안녕하세요, {name}님! {age}살이시군요.')\n",
    "\n",
    "greet('Bob')\n",
    "greet('Charlie', 40) #기본 인자값은 함수 호출시 인자값을 넣으면 그 값으로 진행된다"
   ]
  },
  {
   "cell_type": "code",
   "execution_count": 36,
   "id": "8a6238fd",
   "metadata": {},
   "outputs": [
    {
     "name": "stdout",
     "output_type": "stream",
     "text": [
      "안녕하세요, Dave님! 35살 이시군요\n",
      "안녕하세요, Dave님! 35살 이시군요\n"
     ]
    }
   ],
   "source": [
    "#키워드 인자\n",
    "def greet(name, age):\n",
    "    print(f'안녕하세요, {name}님! {age}살 이시군요')\n",
    "\n",
    "greet(name='Dave', age=35)\n",
    "greet(age=35, name='Dave')\n",
    "#키워드 인자는 인자 입력 순서를 바꿔도 정상 작동한다."
   ]
  },
  {
   "cell_type": "code",
   "execution_count": 102,
   "id": "509ccd0c",
   "metadata": {},
   "outputs": [
    {
     "name": "stdout",
     "output_type": "stream",
     "text": [
      "122\n",
      "1\n"
     ]
    }
   ],
   "source": [
    "#임의의 인자 목록\n",
    "def calculate_sum(*args):\n",
    "    # print(args)\n",
    "    # print(type(args))\n",
    "    return sum(args)\n",
    "\n",
    "print(calculate_sum(1,2,1,3,54,15,46,))\n",
    "print(calculate_sum(1))"
   ]
  },
  {
   "cell_type": "code",
   "execution_count": 38,
   "id": "03c8c630",
   "metadata": {},
   "outputs": [
    {
     "name": "stdout",
     "output_type": "stream",
     "text": [
      "{'name': 'Eve', 'age': 30}\n",
      "<class 'dict'>\n"
     ]
    }
   ],
   "source": [
    "#임의의 키워드 인자 목록\n",
    "def print_info(**kwargs):\n",
    "    print(kwargs)\n",
    "    print(type(kwargs))\n",
    "\n",
    "print_info(name='Eve', age=30)"
   ]
  },
  {
   "cell_type": "code",
   "execution_count": 43,
   "id": "0c243bd8",
   "metadata": {},
   "outputs": [
    {
     "name": "stdout",
     "output_type": "stream",
     "text": [
      "pos1 : 1\n",
      "pos2 : 2\n",
      "default_arg : 3\n",
      "args : (4, 5, 6)\n",
      "kwargs : {'key1': 'value1', 'key2': 'value2'}\n"
     ]
    }
   ],
   "source": [
    "#함수 인자 권장 작성 순서\n",
    "def arg_sequence(pos1, pos2, default_arg = 'default', *args, **kwargs):\n",
    "    print('pos1 :', pos1)\n",
    "    print('pos2 :', pos2)\n",
    "    print('default_arg :', default_arg)\n",
    "    print('args :', args)\n",
    "    print('kwargs :', kwargs)\n",
    "\n",
    "arg_sequence(1,2,3,4,5,6, key1 = 'value1', key2 = 'value2')"
   ]
  },
  {
   "cell_type": "code",
   "execution_count": null,
   "id": "69a0a6e8",
   "metadata": {},
   "outputs": [
    {
     "name": "stdout",
     "output_type": "stream",
     "text": [
      "(1, 2, 3, 4)\n",
      "<class 'tuple'>\n",
      "<class 'list'>\n",
      "result :  [1, 2, 3, 4, 1, 2, 3]\n",
      "stri : hi\n",
      "age : 10\n",
      "name : 임경수\n",
      "1\n",
      "(2, 3, 4, 5, 6, 7, 8, 12, 31, 24, 15)\n",
      "{'n': 1, 'n2': 2}\n"
     ]
    }
   ],
   "source": [
    "def func1(*param):\n",
    "    args = param\n",
    "    print(args)\n",
    "    print(type(args))\n",
    "    list_args = list(args)\n",
    "    print(type(list_args))\n",
    "    return list_args + [1,2,3]\n",
    "\n",
    "print('result : ', func1(1,2,3,4))\n",
    "\n",
    "def func2(*args):\n",
    "    print(args)\n",
    "    print(type(args))\n",
    "\n",
    "def Arbitray_Keyword_Argument(**kwargs):\n",
    "    dic = kwargs\n",
    "    for k, v in dic.items():\n",
    "        print(k, ':', v)\n",
    "    # print(dic)\n",
    "\n",
    "Arbitray_Keyword_Argument(stri = 'hi',\n",
    "                          age = 10,\n",
    "                          name = '임경수')\n",
    "\n",
    "packed_data = [1,2,3,4,5,6,7,8]\n",
    "def unpack_func(param1, *args, **kwargs):\n",
    "    position_arg = param1\n",
    "    rest_arg = args\n",
    "    kwargs = kwargs\n",
    "    print(position_arg)\n",
    "    print(rest_arg)\n",
    "    print(kwargs)\n",
    "##############\n",
    "##############\n",
    "##############\n",
    "##############\n",
    "##############\n",
    "##############\n",
    "##############\n",
    "##############\n",
    "##############\n",
    "##############\n",
    "unpack_func(*packed_data,12,31,24,15, n = 1, n2 =2)\n",
    "#인자 입력 순서는 지켜줘야한다\n",
    "unpack_func(*packed_data,12,31,24,15, n = 1, n2 =2, 13)\n"
   ]
  },
  {
   "cell_type": "code",
   "execution_count": 7,
   "id": "544e0a40",
   "metadata": {},
   "outputs": [
    {
     "name": "stdout",
     "output_type": "stream",
     "text": [
      "3.2\n"
     ]
    }
   ],
   "source": [
    "#타입 권장문 -> 은 반환되는걸 명시\n",
    "def func3(params1: int, params2: float) -> int:\n",
    "    print(params1)\n",
    "\n",
    "func3(3.2)\n",
    "func3()"
   ]
  },
  {
   "cell_type": "code",
   "execution_count": 8,
   "id": "15dce9cc",
   "metadata": {},
   "outputs": [
    {
     "name": "stdout",
     "output_type": "stream",
     "text": [
      "현재 :  5\n",
      "현재 :  4\n",
      "현재 :  3\n",
      "현재 :  2\n",
      "현재 :  1\n"
     ]
    },
    {
     "data": {
      "text/plain": [
       "120"
      ]
     },
     "execution_count": 8,
     "metadata": {},
     "output_type": "execute_result"
    }
   ],
   "source": [
    "def factorial(n):\n",
    "    if n == 0:\n",
    "        return 1\n",
    "    else:\n",
    "        print('현재 : ', n)\n",
    "        return n * factorial(n-1)\n",
    "    \n",
    "factorial(5)"
   ]
  },
  {
   "cell_type": "markdown",
   "id": "1f4b64b6",
   "metadata": {},
   "source": [
    "### 내장 함수(Built-in function)\n",
    "\n",
    "공식문서 참고"
   ]
  },
  {
   "cell_type": "markdown",
   "id": "403bf24a",
   "metadata": {},
   "source": [
    "### Local 과 global\n",
    "함수는 코드 내부에 local scope를 생성함\n",
    "\n",
    "**변수의 수명주기**  \n",
    "1. built-in scopre  \n",
    "   파이썬이 실행된 이후부터 영원히 유지\n",
    "2. global scope  \n",
    "   모듈이 호출된 시점 이후 혹은 인터프리터가 끝날 때가지\n",
    "3. local scope  \n",
    "   함수가 호출될때 생성, 종료될때 삭제  \n",
    "\n",
    "**이름 검색 규칙**  \n",
    "LEGB순서로 이름을 찾아나간다.  \n",
    "Local -> Enclosed -> Global -> Built-in  \n",
    "\n",
    "*)함수 내에서는 바깥 Scope의 변수 접근은 가능하나 수정은 안된다."
   ]
  },
  {
   "cell_type": "code",
   "execution_count": 12,
   "id": "03b7507a",
   "metadata": {},
   "outputs": [
    {
     "name": "stdout",
     "output_type": "stream",
     "text": [
      "<class 'tuple'>\n"
     ]
    }
   ],
   "source": [
    "def func4(*param):\n",
    "    print(type(param))\n",
    "\n",
    "func4(1,2,3,4)"
   ]
  },
  {
   "cell_type": "code",
   "execution_count": 19,
   "id": "a1a37b73",
   "metadata": {},
   "outputs": [
    {
     "name": "stdout",
     "output_type": "stream",
     "text": [
      "1l2l3l4l5\n",
      "1\n",
      "2\n",
      "3\n",
      "4\n",
      "5\n"
     ]
    }
   ],
   "source": [
    "print(*[1,2,3,4,5], sep = 'l')\n",
    "print(*[1,2,3,4,5], sep = '\\n')\n",
    "#어렵다"
   ]
  },
  {
   "cell_type": "code",
   "execution_count": 25,
   "id": "643fdc9a",
   "metadata": {},
   "outputs": [
    {
     "ename": "TypeError",
     "evalue": "my_func() missing 2 required positional arguments: 'y' and 'z'",
     "output_type": "error",
     "traceback": [
      "\u001b[31m---------------------------------------------------------------------------\u001b[39m",
      "\u001b[31mTypeError\u001b[39m                                 Traceback (most recent call last)",
      "\u001b[36mCell\u001b[39m\u001b[36m \u001b[39m\u001b[32mIn[25]\u001b[39m\u001b[32m, line 6\u001b[39m\n\u001b[32m      3\u001b[39m \u001b[38;5;28;01mdef\u001b[39;00m\u001b[38;5;250m \u001b[39m\u001b[34mmy_func2\u001b[39m(x,y):\n\u001b[32m      4\u001b[39m     \u001b[38;5;28mprint\u001b[39m(x,y)\n\u001b[32m----> \u001b[39m\u001b[32m6\u001b[39m \u001b[43mmy_func\u001b[49m\u001b[43m(\u001b[49m\u001b[43m[\u001b[49m\u001b[32;43m3\u001b[39;49m\u001b[43m,\u001b[49m\u001b[32;43m2\u001b[39;49m\u001b[43m,\u001b[49m\u001b[32;43m3\u001b[39;49m\u001b[43m]\u001b[49m\u001b[43m)\u001b[49m\n\u001b[32m      7\u001b[39m my_func2([\u001b[32m3\u001b[39m,\u001b[32m2\u001b[39m,\u001b[32m3\u001b[39m])\n",
      "\u001b[31mTypeError\u001b[39m: my_func() missing 2 required positional arguments: 'y' and 'z'"
     ]
    }
   ],
   "source": [
    "def my_func(x,y,z):\n",
    "    print(x,y,z)\n",
    "def my_func2(x,y):\n",
    "    print(x,y)\n",
    "\n",
    "my_func(*[3,2,3])\n",
    "my_func2([3,2,3])"
   ]
  },
  {
   "cell_type": "code",
   "execution_count": 33,
   "id": "236b3332",
   "metadata": {},
   "outputs": [
    {
     "data": {
      "text/plain": [
       "[True, True, True, False, False]"
      ]
     },
     "execution_count": 33,
     "metadata": {},
     "output_type": "execute_result"
    }
   ],
   "source": [
    "numbers = list(range(5))\n",
    "list(map(lambda x : x < 3, numbers))"
   ]
  },
  {
   "cell_type": "markdown",
   "id": "d3538cb8",
   "metadata": {},
   "source": [
    "### 패킹\n",
    "여러 개의 데이터를 하나의 컬렉션으로 모아 담는 과정\n",
    "\n",
    "**\\*** 을 활용한 패킹\n",
    "```python\n",
    "def my_func(pos1, *args):\n",
    "  print(pos1, type(pos1))\n",
    "  print(args, type(args))\n",
    "\n",
    "my_func(1,2,3,4,5)\n",
    "```"
   ]
  },
  {
   "cell_type": "code",
   "execution_count": 46,
   "id": "84d4f17e",
   "metadata": {},
   "outputs": [
    {
     "name": "stdout",
     "output_type": "stream",
     "text": [
      "(1, 2, 3, 4, 5, 6)\n",
      "1 type : <class 'int'>\n",
      "(2, 3, 4, 5) type : <class 'tuple'>\n"
     ]
    }
   ],
   "source": [
    "packed_values = 1,2,3,4,5,6\n",
    "print(packed_values)\n",
    "\n",
    "def my_func(pos1, *args):\n",
    "  print(pos1,'type :', type(pos1))\n",
    "  print(args, 'type :', type(args))\n",
    "\n",
    "my_func(1,2,3,4,5)"
   ]
  },
  {
   "cell_type": "code",
   "execution_count": 70,
   "id": "b2a37d46",
   "metadata": {},
   "outputs": [
    {
     "name": "stdout",
     "output_type": "stream",
     "text": [
      "0\n",
      "1\n",
      "2\n",
      "0\n"
     ]
    }
   ],
   "source": [
    "nums = iter(range(3))\n",
    "print(next(nums,1))\n",
    "print(next(nums,1))\n",
    "print(next(nums,1))\n",
    "print(next(nums,0))"
   ]
  },
  {
   "cell_type": "code",
   "execution_count": null,
   "id": "36db69e4",
   "metadata": {},
   "outputs": [],
   "source": [
    "def factorial(n):\n",
    "    if n == 0:\n",
    "        return 1\n",
    "    else\n",
    "        return n * factorial(n-1)"
   ]
  },
  {
   "cell_type": "code",
   "execution_count": null,
   "id": "896e9d40",
   "metadata": {},
   "outputs": [
    {
     "ename": "SyntaxError",
     "evalue": "invalid syntax (3707151948.py, line 4)",
     "output_type": "error",
     "traceback": [
      "  \u001b[36mCell\u001b[39m\u001b[36m \u001b[39m\u001b[32mIn[110]\u001b[39m\u001b[32m, line 4\u001b[39m\n\u001b[31m    \u001b[39m\u001b[31mmap(print(*), *dic1)\u001b[39m\n               ^\n\u001b[31mSyntaxError\u001b[39m\u001b[31m:\u001b[39m invalid syntax\n"
     ]
    }
   ],
   "source": [
    "dic1 = {'name':['a','b'],\n",
    "        'age':[12,21]}\n",
    "\n",
    "map(lambda, *dic1)"
   ]
  },
  {
   "cell_type": "code",
   "execution_count": 114,
   "id": "82b1be46",
   "metadata": {},
   "outputs": [
    {
     "data": {
      "text/plain": [
       "3"
      ]
     },
     "execution_count": 114,
     "metadata": {},
     "output_type": "execute_result"
    }
   ],
   "source": [
    "def func1():\n",
    "    def add(a,b):\n",
    "        return a+b\n",
    "    c = add(1,2)\n",
    "    return c\n",
    "    \n",
    "\n",
    "# add(1,2)\n",
    "func1()"
   ]
  },
  {
   "cell_type": "code",
   "execution_count": null,
   "id": "a88d3d24",
   "metadata": {},
   "outputs": [
    {
     "name": "stdout",
     "output_type": "stream",
     "text": [
      "김시습님 환영합니다!\n",
      "허균님 환영합니다!\n",
      "남영로님 환영합니다!\n",
      "임제님 환영합니다!\n",
      "박지원님 환영합니다!\n",
      "남은 책의 수 : 98\n",
      "김시습님이 2권의 책을 대여하였습니다.\n",
      "남은 책의 수 : 97\n",
      "허균님이 1권의 책을 대여하였습니다.\n",
      "남은 책의 수 : 92\n",
      "남영로님이 5권의 책을 대여하였습니다.\n",
      "남은 책의 수 : 89\n",
      "임제님이 3권의 책을 대여하였습니다.\n",
      "남은 책의 수 : 83\n",
      "박지원님이 6권의 책을 대여하였습니다.\n"
     ]
    }
   ],
   "source": [
    "number_of_people = 0\n",
    "number_of_book = 100\n",
    "\n",
    "def increase_user():\n",
    "    global number_of_people\n",
    "    number_of_people +=1\n",
    "\n",
    "def create_user(name, age, address):\n",
    "    increase_user()\n",
    "\n",
    "    user_info = {\n",
    "                'name': name,\n",
    "                'age': age,\n",
    "                'address': address\n",
    "                }\n",
    "    \n",
    "    print(f'{name}님 환영합니다!')\n",
    "    \n",
    "    return user_info\n",
    "\n",
    "def decrease_book(number_of_rental):\n",
    "    global number_of_book\n",
    "    number_of_book -= number_of_rental\n",
    "    print(f'남은 책의 수 : {number_of_book}')\n",
    "\n",
    "def rental_book(info):\n",
    "    name = info['name']\n",
    "    age = info['age']\n",
    "    number_of_rental_book = age // 10\n",
    "    decrease_book(number_of_rental_book)\n",
    "    print(f'{name}님이 {number_of_rental_book}권의 책을 대여하였습니다.')\n",
    "    \n",
    "\n",
    "name = ['김시습', '허균', '남영로', '임제', '박지원']\n",
    "age = [20, 16, 52, 36, 60]\n",
    "address = ['서울', '강릉', '조선', '나주', '한성부']\n",
    "\n",
    "many_user = list(map(lambda info: create_user(*info), zip(name, age, address )))\n",
    "info = list(map(lambda x: {'name':x['name'], 'age':x['age']}, many_user))\n",
    "result = list(map(lambda info: rental_book(info), info))\n"
   ]
  }
 ],
 "metadata": {
  "kernelspec": {
   "display_name": "Python 3",
   "language": "python",
   "name": "python3"
  },
  "language_info": {
   "codemirror_mode": {
    "name": "ipython",
    "version": 3
   },
   "file_extension": ".py",
   "mimetype": "text/x-python",
   "name": "python",
   "nbconvert_exporter": "python",
   "pygments_lexer": "ipython3",
   "version": "3.11.9"
  }
 },
 "nbformat": 4,
 "nbformat_minor": 5
}
